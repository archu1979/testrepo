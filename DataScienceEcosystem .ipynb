{
  "metadata": {
    "language_info": {
      "codemirror_mode": {
        "name": "python",
        "version": 3
      },
      "file_extension": ".py",
      "mimetype": "text/x-python",
      "name": "python",
      "nbconvert_exporter": "python",
      "pygments_lexer": "ipython3",
      "version": "3.8"
    },
    "kernelspec": {
      "name": "python",
      "display_name": "Python (Pyodide)",
      "language": "python"
    }
  },
  "nbformat_minor": 4,
  "nbformat": 4,
  "cells": [
    {
      "cell_type": "markdown",
      "source": "# Data Science Tools and Ecosystem",
      "metadata": {
        "tags": []
      }
    },
    {
      "cell_type": "markdown",
      "source": "In this Notebook Datascience Tools and Ecosystem arre Summerized.",
      "metadata": {}
    },
    {
      "cell_type": "markdown",
      "source": "***Objectives:***\n- Popular Languages\n- Commonly used Libraries\n- DataScince Tool",
      "metadata": {}
    },
    {
      "cell_type": "markdown",
      "source": "Some of the Popular Languages that Data Scientists use are:\n\n1. Python\n2. SQL\n3. R\n",
      "metadata": {}
    },
    {
      "cell_type": "markdown",
      "source": "Some of the commonly used Libraries used by Data Scientists include:\n\n1. Pandas\n2. NumPy\n3. SciPy\n4. Metaplotlib",
      "metadata": {}
    },
    {
      "cell_type": "markdown",
      "source": "|DataScience Tools|\n------------------\n|Jupyter|\n|Rstudio|\n|Github |",
      "metadata": {}
    },
    {
      "cell_type": "markdown",
      "source": "### Below are a few examples of evaluating Arithmetic expressions in Python ###\n",
      "metadata": {}
    },
    {
      "cell_type": "code",
      "source": "# This is a simple Arithemetic expression to multiply then add integers\n(3*4)+5",
      "metadata": {
        "trusted": true
      },
      "execution_count": 14,
      "outputs": [
        {
          "execution_count": 14,
          "output_type": "execute_result",
          "data": {
            "text/plain": "17"
          },
          "metadata": {}
        }
      ]
    },
    {
      "cell_type": "code",
      "source": "# This will convert 200 minutes into hours by dividing by 60\n\nM = 200\nH = M/60\nprint(\" 200 minutes in hours: \", H ) ",
      "metadata": {
        "trusted": true
      },
      "execution_count": 15,
      "outputs": [
        {
          "name": "stdout",
          "text": " 200 minutes in hours:  3.3333333333333335\n",
          "output_type": "stream"
        }
      ]
    },
    {
      "cell_type": "markdown",
      "source": "## Author ##\nArchana",
      "metadata": {}
    },
    {
      "cell_type": "code",
      "source": "",
      "metadata": {},
      "execution_count": null,
      "outputs": []
    }
  ]
}